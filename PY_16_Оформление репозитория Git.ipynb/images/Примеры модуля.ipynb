{
 "cells": [
  {
   "cell_type": "markdown",
   "metadata": {},
   "source": [
    "<strong> Start </strong>"
   ]
  },
  {
   "cell_type": "markdown",
   "metadata": {},
   "source": [
    "# *Markdowm text курсивном шрифтом*\n",
    "\n",
    "Обычный текст\n",
    "\n",
    "** Полужирный текст**\n",
    "\n",
    "$ формула: a_{i+1} = a_{i} + 10$"
   ]
  }
 ],
 "metadata": {
  "language_info": {
   "name": "python"
  },
  "orig_nbformat": 4
 },
 "nbformat": 4,
 "nbformat_minor": 2
}
