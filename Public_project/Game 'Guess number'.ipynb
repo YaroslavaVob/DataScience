{
 "cells": [
  {
   "cell_type": "markdown",
   "metadata": {},
   "source": [
    "# Project 0. \"Угадай число\"\n",
    "\n",
    "### Написать программу, которая угадывает число за минимальное количество попыток.\n",
    "\n",
    "## Условия соревнования\n",
    "### 1) Компьютер загадывает целое число от 1 до 100 и его нужно угадать. Под «угадать», подразумевается «написать программу, которая угадывает число».\n",
    "### 2) Алгоритм учитывает информацию о том, больше ли случайное число или меньше загаданного компьютером.\n",
    "### 3) Необходимо добиться того, чтобы программа угадывала число меньше, чем за 20 попыток."
   ]
  },
  {
   "cell_type": "markdown",
   "metadata": {},
   "source": [
    "## Решение:"
   ]
  },
  {
   "cell_type": "code",
   "execution_count": 11,
   "metadata": {},
   "outputs": [],
   "source": [
    "# Импортируем библиотеку для генерации случайных чисел\n",
    "import numpy as np"
   ]
  },
  {
   "cell_type": "markdown",
   "metadata": {},
   "source": [
    "###  Пишем код: функцию, которая принимает на вход загаданное число и возвращает число попыток угадывания."
   ]
  },
  {
   "cell_type": "code",
   "execution_count": 12,
   "metadata": {},
   "outputs": [],
   "source": [
    "def game_core_v3(number: int = 1) -> int:\n",
    "    \"\"\"Устанавливаем любое random число, основным принципом будет\n",
    "    нахождение среднего значения диапозона между минимальным и\n",
    "    максимальным значениями, которые задаются от random числа\n",
    "    Функция принимает загаданное компьютером число и возвращает число попыток\n",
    "    Args:\n",
    "        number (int, optional): Загаданное число. Defaults to 1.\n",
    "    Returns:\n",
    "        int: Число попыток\n",
    "    \"\"\"\n",
    "    count = 0  # инициализируем переменную для подсчета попыток\n",
    "    # изначально задаем границы диапазона от 0 до 100\n",
    "    min_number = 0\n",
    "    max_number = 100\n",
    "    # рандомно выбираем число\n",
    "    predict = np.random.randint(1, 101)\n",
    "    \n",
    "    # создаем цикл, пока рандомное число не совпадет с загаданным\n",
    "    while number != predict:\n",
    "        count += 1  #подсчет количества попыток\n",
    "        \n",
    "        # если рандомное число меньше загаданного компьютером,\n",
    "        # задаем минимальную границу, равную random числу + 1\n",
    "        if number > predict:\n",
    "            min_number = predict + 1\n",
    "            # находим среднее значение диапозона и сохраняем его в random число\n",
    "            predict = (min_number + max_number) // 2\n",
    "        \n",
    "        # проверяем рандомное число, если оно больше загаданного, \n",
    "        # то теперь мы задаем максимальную границу диапазона из random числа - 1\n",
    "        elif number < predict:\n",
    "            max_number = predict - 1\n",
    "            # минимальное число мы берем предыдующее(predict+1), если оно не впервые в цикле\n",
    "            predict = (max_number + min_number) // 2\n",
    "\n",
    "    return count"
   ]
  },
  {
   "cell_type": "markdown",
   "metadata": {},
   "source": [
    " ### Пишем функцию для определения, за какое число попыток программа угадывает наше число."
   ]
  },
  {
   "cell_type": "code",
   "execution_count": 13,
   "metadata": {},
   "outputs": [],
   "source": [
    "def score_game(random_predict) -> int:\n",
    "    \"\"\"За какое количество попыток в среднем за 1000 подходов угадывает наш алгоритм\n",
    "\n",
    "    Args:\n",
    "        random_predict ([type]): функция угадывания\n",
    "\n",
    "    Returns:\n",
    "        int: среднее количество попыток\n",
    "    \"\"\"\n",
    "    count_ls = []\n",
    "    #np.random.seed(1)  # фиксируем сид для воспроизводимости\n",
    "    random_array = np.random.randint(1, 101, size=(1000))  # загадали список чисел\n",
    "\n",
    "    for number in random_array:\n",
    "        count_ls.append(random_predict(number))\n",
    "\n",
    "    score = int(np.mean(count_ls))\n",
    "    print(f\"Ваш алгоритм угадывает число в среднем за: {score} попытки\")"
   ]
  },
  {
   "cell_type": "markdown",
   "metadata": {},
   "source": [
    "### Проверяем работу алгоритма"
   ]
  },
  {
   "cell_type": "code",
   "execution_count": 14,
   "metadata": {},
   "outputs": [
    {
     "name": "stdout",
     "output_type": "stream",
     "text": [
      "Run benchmarking for game_core_v2: Ваш алгоритм угадывает число в среднем за: 5 попытки\n"
     ]
    }
   ],
   "source": [
    "#Run benchmarking to score effectiveness of all algorithms\n",
    "print('Run benchmarking for game_core_v2: ', end='')\n",
    "score_game(game_core_v3)"
   ]
  },
  {
   "cell_type": "markdown",
   "metadata": {},
   "source": [
    "### ИТОГ: результатом нашей программы является среднее число попыток 5, значит мы выполнили основное условие"
   ]
  }
 ],
 "metadata": {
  "kernelspec": {
   "display_name": "Python 3",
   "language": "python",
   "name": "python3"
  },
  "language_info": {
   "codemirror_mode": {
    "name": "ipython",
    "version": 3
   },
   "file_extension": ".py",
   "mimetype": "text/x-python",
   "name": "python",
   "nbconvert_exporter": "python",
   "pygments_lexer": "ipython3",
   "version": "3.9.10"
  },
  "orig_nbformat": 4
 },
 "nbformat": 4,
 "nbformat_minor": 2
}
