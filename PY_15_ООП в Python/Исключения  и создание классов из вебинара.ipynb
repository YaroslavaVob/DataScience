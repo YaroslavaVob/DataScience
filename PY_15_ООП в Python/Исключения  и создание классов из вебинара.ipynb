{
 "cells": [
  {
   "cell_type": "code",
   "execution_count": 85,
   "metadata": {},
   "outputs": [
    {
     "name": "stdout",
     "output_type": "stream",
     "text": [
      "Перед исключением\n"
     ]
    },
    {
     "ename": "ValueError",
     "evalue": "invalid literal for int() with base 10: ''",
     "output_type": "error",
     "traceback": [
      "\u001b[1;31m---------------------------------------------------------------------------\u001b[0m",
      "\u001b[1;31mValueError\u001b[0m                                Traceback (most recent call last)",
      "\u001b[1;32mc:\\IDE\\SkillFactory\\PY_15_ООП в Python\\Исключения  и создание классов из вебинара.ipynb Cell 1\u001b[0m line \u001b[0;36m4\n\u001b[0;32m      <a href='vscode-notebook-cell:/c%3A/IDE/SkillFactory/PY_15_%D0%9E%D0%9E%D0%9F%20%D0%B2%20Python/%D0%98%D1%81%D0%BA%D0%BB%D1%8E%D1%87%D0%B5%D0%BD%D0%B8%D1%8F%20%20%D0%B8%20%D1%81%D0%BE%D0%B7%D0%B4%D0%B0%D0%BD%D0%B8%D0%B5%20%D0%BA%D0%BB%D0%B0%D1%81%D1%81%D0%BE%D0%B2%20%D0%B8%D0%B7%20%D0%B2%D0%B5%D0%B1%D0%B8%D0%BD%D0%B0%D1%80%D0%B0.ipynb#W0sZmlsZQ%3D%3D?line=1'>2</a>\u001b[0m \u001b[39mprint\u001b[39m(\u001b[39m\"\u001b[39m\u001b[39mПеред исключением\u001b[39m\u001b[39m\"\u001b[39m)\n\u001b[0;32m      <a href='vscode-notebook-cell:/c%3A/IDE/SkillFactory/PY_15_%D0%9E%D0%9E%D0%9F%20%D0%B2%20Python/%D0%98%D1%81%D0%BA%D0%BB%D1%8E%D1%87%D0%B5%D0%BD%D0%B8%D1%8F%20%20%D0%B8%20%D1%81%D0%BE%D0%B7%D0%B4%D0%B0%D0%BD%D0%B8%D0%B5%20%D0%BA%D0%BB%D0%B0%D1%81%D1%81%D0%BE%D0%B2%20%D0%B8%D0%B7%20%D0%B2%D0%B5%D0%B1%D0%B8%D0%BD%D0%B0%D1%80%D0%B0.ipynb#W0sZmlsZQ%3D%3D?line=2'>3</a>\u001b[0m \u001b[39m# теперь пользователь сам вводит числа для деления\u001b[39;00m\n\u001b[1;32m----> <a href='vscode-notebook-cell:/c%3A/IDE/SkillFactory/PY_15_%D0%9E%D0%9E%D0%9F%20%D0%B2%20Python/%D0%98%D1%81%D0%BA%D0%BB%D1%8E%D1%87%D0%B5%D0%BD%D0%B8%D1%8F%20%20%D0%B8%20%D1%81%D0%BE%D0%B7%D0%B4%D0%B0%D0%BD%D0%B8%D0%B5%20%D0%BA%D0%BB%D0%B0%D1%81%D1%81%D0%BE%D0%B2%20%D0%B8%D0%B7%20%D0%B2%D0%B5%D0%B1%D0%B8%D0%BD%D0%B0%D1%80%D0%B0.ipynb#W0sZmlsZQ%3D%3D?line=3'>4</a>\u001b[0m a \u001b[39m=\u001b[39m \u001b[39mint\u001b[39;49m(\u001b[39minput\u001b[39;49m(\u001b[39m\"\u001b[39;49m\u001b[39ma: \u001b[39;49m\u001b[39m\"\u001b[39;49m))\n\u001b[0;32m      <a href='vscode-notebook-cell:/c%3A/IDE/SkillFactory/PY_15_%D0%9E%D0%9E%D0%9F%20%D0%B2%20Python/%D0%98%D1%81%D0%BA%D0%BB%D1%8E%D1%87%D0%B5%D0%BD%D0%B8%D1%8F%20%20%D0%B8%20%D1%81%D0%BE%D0%B7%D0%B4%D0%B0%D0%BD%D0%B8%D0%B5%20%D0%BA%D0%BB%D0%B0%D1%81%D1%81%D0%BE%D0%B2%20%D0%B8%D0%B7%20%D0%B2%D0%B5%D0%B1%D0%B8%D0%BD%D0%B0%D1%80%D0%B0.ipynb#W0sZmlsZQ%3D%3D?line=4'>5</a>\u001b[0m b \u001b[39m=\u001b[39m \u001b[39mint\u001b[39m(\u001b[39minput\u001b[39m(\u001b[39m\"\u001b[39m\u001b[39mb: \u001b[39m\u001b[39m\"\u001b[39m))\n\u001b[0;32m      <a href='vscode-notebook-cell:/c%3A/IDE/SkillFactory/PY_15_%D0%9E%D0%9E%D0%9F%20%D0%B2%20Python/%D0%98%D1%81%D0%BA%D0%BB%D1%8E%D1%87%D0%B5%D0%BD%D0%B8%D1%8F%20%20%D0%B8%20%D1%81%D0%BE%D0%B7%D0%B4%D0%B0%D0%BD%D0%B8%D0%B5%20%D0%BA%D0%BB%D0%B0%D1%81%D1%81%D0%BE%D0%B2%20%D0%B8%D0%B7%20%D0%B2%D0%B5%D0%B1%D0%B8%D0%BD%D0%B0%D1%80%D0%B0.ipynb#W0sZmlsZQ%3D%3D?line=5'>6</a>\u001b[0m c \u001b[39m=\u001b[39m a \u001b[39m/\u001b[39m b  \u001b[39m# здесь может возникнуть исключение деления на ноль\u001b[39;00m\n",
      "\u001b[1;31mValueError\u001b[0m: invalid literal for int() with base 10: ''"
     ]
    }
   ],
   "source": [
    "try:  # Добавляем конструкцию try-except для отлова нашей ошибки\n",
    "    print(\"Перед исключением\")\n",
    "    # теперь пользователь сам вводит числа для деления\n",
    "    a = int(input(\"a: \"))\n",
    "    b = int(input(\"b: \"))\n",
    "    c = a / b  # здесь может возникнуть исключение деления на ноль\n",
    "    print(c)  # печатаем c = a / b если всё хорошо\n",
    "except ZeroDivisionError as e: # Добавляем тип именно той ошибки, которую хотим отловить.     \n",
    "    print(e)  # Выводим информацию об ошибке\n",
    "    print(\"После исключения\")\n",
    " \n",
    "print(\"После После исключения\")"
   ]
  },
  {
   "cell_type": "code",
   "execution_count": null,
   "metadata": {},
   "outputs": [],
   "source": [
    "try:\n",
    "    print(\"Перед исключением\")\n",
    "    a = int(input(\"a: \"))\n",
    "    b = int(input(\"b: \"))\n",
    "    c = a / b\n",
    "    print(c)  # печатаем c = a / b если всё хорошо\n",
    "except ZeroDivisionError as e:\n",
    "    print(\"После исключения\")\n",
    "else:  # код в блоке else выполняется только в том случае, если код в блоке try выполнился успешно (т.е. не вылетело никакого исключения).\n",
    "    print(\"Всё ништяк\")\n",
    "finally:  # код в блоке finally выполнится в любом случае, при выходе из try-except\n",
    "    print(\"Finally на месте\")\n",
    " \n",
    "print(\"После После исключения\")"
   ]
  },
  {
   "cell_type": "code",
   "execution_count": null,
   "metadata": {},
   "outputs": [
    {
     "name": "stdout",
     "output_type": "stream",
     "text": [
      "Тебе 30 лет!\n"
     ]
    }
   ],
   "source": [
    "# мы можем вызывать ошибки самостоятельно с помощью конструкции raise. \n",
    "# Используется это, как правило, для отладки кода и остановки программы в критических ситуациях.\n",
    "age = int(input(\"Сколько тебе лет?\"))\n",
    "\n",
    " \n",
    "if age > 100 or age <= 0:\n",
    "    raise ValueError(\"Тебе не может быть столько лет\")\n",
    " \n",
    "print(f\"Тебе {age} лет!\") # Возраст выводится только если пользователь ввёл правильный возраст."
   ]
  },
  {
   "cell_type": "code",
   "execution_count": null,
   "metadata": {},
   "outputs": [
    {
     "name": "stdout",
     "output_type": "stream",
     "text": [
      "Тебе 20 лет!\n"
     ]
    }
   ],
   "source": [
    "try:\n",
    "    age = int(input(\"Сколько тебе лет?\"))\n",
    "\n",
    "    if age > 100 or age <= 0:\n",
    "        raise ValueError(\"Тебе не может быть столько лет\")\n",
    "\n",
    "    # Возраст выводится только если пользователь ввёл правильный возраст.\n",
    "    print(f\"Тебе {age} лет!\")\n",
    "except ValueError:\n",
    "    print(\"Неправильный возраст\")"
   ]
  },
  {
   "cell_type": "code",
   "execution_count": null,
   "metadata": {},
   "outputs": [
    {
     "name": "stdout",
     "output_type": "stream",
     "text": [
      "Вы ввели -5\n",
      "Выход из программы\n"
     ]
    }
   ],
   "source": [
    "# Создать скрипт, который будет в input() принимать строки, и их необходимо будет конвертировать в числа, \n",
    "# добавить try-except на то, чтобы строки могли быть сконвертированы в числа.\n",
    "# В случае удачного выполнения скрипта написать: «Вы ввели <введённое число>».\n",
    "# В конце скрипта обязательно написать: «Выход из программы».\n",
    "# ПРИМЕЧАНИЕ: Для отлова ошибок используйте try-except, а также блоки finally и else.\n",
    "try:\n",
    "    a = int(input('Введите любое число: '))\n",
    "except ValueError:\n",
    "    print('Вы ввели не число')\n",
    "else:\n",
    "    print(f'Вы ввели {a}')\n",
    "finally:\n",
    "    print('Выход из программы')   \n",
    "    "
   ]
  },
  {
   "cell_type": "code",
   "execution_count": null,
   "metadata": {},
   "outputs": [],
   "source": [
    "'''\n",
    "BaseException\n",
    " +-- SystemExit\n",
    " +-- KeyboardInterrupt\n",
    " +-- GeneratorExit\n",
    " +-- Exception\n",
    "  \t+-- StopIteration\n",
    "  \t+-- StopAsyncIteration\n",
    "  \t+-- ArithmeticError\n",
    "  \t|\tFloatingPointError\n",
    "  \t|\tOverflowError\n",
    "  \t|\tZeroDivisionError\n",
    "  \t+-- AssertionError\n",
    "  \t+-- AttributeError\n",
    "  \t+-- BufferError\n",
    "  \t+-- EOFError\n",
    "  \t+-- ImportError\n",
    "  \t|\t+-- ModuleNotFoundError\n",
    "  \t+-- LookupError\n",
    "  \t|\t+-- IndexError\n",
    "  \t|\t+-- KeyError\n",
    "  \t+-- MemoryError\n",
    "  \t+-- NameError\n",
    "  \t|\t+-- UnboundLocalError\n",
    "  \t+-- OSError\n",
    "  \t|\t+-- BlockingIOError\n",
    "  \t|\t+-- ChildProcessError\n",
    "  \t|\t+-- ConnectionError\n",
    "  \t|\t|\t+-- BrokenPipeError\n",
    "  \t|\t|\t+-- ConnectionAbortedError\n",
    "  \t|\t|\t+-- ConnectionRefusedError\n",
    "  \t|\t|\t+-- ConnectionResetError\n",
    "  \t|\t+-- FileExistsError\n",
    "  \t|\t+-- FileNotFoundError\n",
    "  \t|\t+-- InterruptedError\n",
    "  \t|\t+-- IsADirectoryError\n",
    "  \t|\t+-- NotADirectoryError\n",
    "  \t|\t+-- PermissionError\n",
    "  \t|\t+-- ProcessLookupError\n",
    "  \t|\t+-- TimeoutError\n",
    "  \t+-- ReferenceError\n",
    "  \t+-- RuntimeError\n",
    "  \t|\t+-- NotImplementedError\n",
    "  \t|\t+-- RecursionError\n",
    "  \t+-- SyntaxError\n",
    "  \t|\t+-- IndentationError\n",
    "  \t|     \t+-- TabError\n",
    "  \t+-- SystemError\n",
    "  \t+-- TypeError\n",
    "  \t+-- ValueError\n",
    "  \t|\t+-- UnicodeError\n",
    "  \t|     \t+-- UnicodeDecodeError\n",
    "  \t|     \t+-- UnicodeEncodeError\n",
    "  \t|     \t+-- UnicodeTranslateError\n",
    "  \t+-- Warning\n",
    "       \t+-- DeprecationWarning\n",
    "       \t+-- PendingDeprecationWarning\n",
    "       \t+-- RuntimeWarning\n",
    "       \t+-- SyntaxWarning\n",
    "       \t+-- UserWarning\n",
    "       \t+-- FutureWarning\n",
    "       \t+-- ImportWarning\n",
    "       \t+-- UnicodeWarning\n",
    "       \t+-- BytesWarning\n",
    "       \t+-- ResourceWarning\n",
    "'''\n",
    "# Дерево стандартных исключений"
   ]
  },
  {
   "cell_type": "code",
   "execution_count": null,
   "metadata": {},
   "outputs": [
    {
     "name": "stdout",
     "output_type": "stream",
     "text": [
      "Hello from arithmetic error\n"
     ]
    }
   ],
   "source": [
    "# «ловить» в блоке except можно не только сам класс, но и его родителя, например:\n",
    "\n",
    "try:\n",
    "    raise ZeroDivisionError  # возбуждаем исключение ZeroDivisionError\n",
    "except ArithmeticError:  # ловим его родителя\n",
    "    print(\"Hello from arithmetic error\")"
   ]
  },
  {
   "cell_type": "code",
   "execution_count": null,
   "metadata": {},
   "outputs": [
    {
     "name": "stdout",
     "output_type": "stream",
     "text": [
      "Arithmetic error\n",
      "Zero division error\n"
     ]
    }
   ],
   "source": [
    "# Если, например, надо поймать несколько исключений, то идти следует вверх по дереву.\n",
    "try:\n",
    "    raise ZeroDivisionError\n",
    "except ArithmeticError:\n",
    "    print(\"Arithmetic error\")\n",
    "except ZeroDivisionError:\n",
    "    print(\"Zero division error\")\n",
    "    \n",
    "try:\n",
    "    raise ZeroDivisionError\n",
    "except ZeroDivisionError:  # сначала пытаемся поймать потомка\n",
    "    print(\"Zero division error\")\n",
    "except ArithmeticError:  # потом ловим родителя\n",
    "    print(\"Arithmetic error\")"
   ]
  },
  {
   "cell_type": "code",
   "execution_count": null,
   "metadata": {},
   "outputs": [],
   "source": [
    "# Принцип написания и отлова собственного исключения следующий:\n",
    "class MyException(Exception):  # создаём пустой класс исключения \n",
    "    pass\n",
    "\n",
    " \n",
    "try:\n",
    "    raise MyException(\"message\")  # поднимаем наше исключение\n",
    "except MyException as e:  # ловим его\n",
    "    print(e)  # выводим информацию об исключении"
   ]
  },
  {
   "cell_type": "code",
   "execution_count": null,
   "metadata": {},
   "outputs": [],
   "source": [
    "# Лучше всего, чтобы исключения были связаны между собой, то есть наследовались от общего класса исключения.\n",
    "# попробуем построить собственные исключения с наследованием:\n",
    "class ParentException(Exception):  # создаём пустой класс исключения, наследуемся от exception\n",
    "    pass \n",
    "class ChildException(ParentException):  # создаём пустой класс исключения-потомка, наследуемся от ParentException\n",
    "    pass \n",
    "try:\n",
    "    raise ChildException(\"message\")  # поднимаем исключение-потомок\n",
    "except ParentException as e:  # ловим его родителя\n",
    "    print(e)  # выводим информацию об исключении"
   ]
  },
  {
   "cell_type": "code",
   "execution_count": null,
   "metadata": {},
   "outputs": [],
   "source": [
    "# Создайте класс Square. Добавьте в конструктор класса Square собственное исключение NonPositiveDigitException, \n",
    "# унаследованное от ValueError, которое будет срабатывать каждый раз, когда сторона квадрата меньше или равна 0.\n",
    "\n",
    "# Неправильно:\n",
    "class Square(ValueError):\n",
    "    def __init__(self, message, error):\n",
    "        self.error = error\n",
    "        super().__init__(message)\n",
    "        print(f'Error: {NonPositiveDigitException}')\n",
    "class NonPositiveDigitException(Square):\n",
    "    def __init__(self, message, error):\n",
    "        self.error = NonPositiveDigitException\n",
    "        super().__init__(message, error)\n",
    "try:\n",
    "    if a <= 0:\n",
    "        raise NonPositiveDigitException('Сторона квадрата меньше или равна 0')\n",
    "except NonPositiveDigitException as e:\n",
    "    print('Неправильно введена сторона квадрата')"
   ]
  },
  {
   "cell_type": "code",
   "execution_count": null,
   "metadata": {},
   "outputs": [],
   "source": [
    "# Создайте класс Square. Добавьте в конструктор класса Square собственное исключение NonPositiveDigitException, \n",
    "# унаследованное от ValueError, которое будет срабатывать каждый раз, когда сторона квадрата меньше или равна 0.\n",
    "class NonPositiveDigitException(ValueError):\n",
    "    pass\n",
    " \n",
    "class Square:\n",
    "    def __init__(self, a):\n",
    "        if a <= 0:\n",
    "            raise NonPositiveDigitException('Неправильно указана сторона квадрата')"
   ]
  },
  {
   "cell_type": "code",
   "execution_count": null,
   "metadata": {},
   "outputs": [],
   "source": [
    "'''\n",
    "Класс Tomato:\n",
    "\n",
    "Создайте класс Tomato\n",
    "Создайте статическое свойство states, которое будет содержать все стадии созревания помидора\n",
    "Создайте метод init(), внутри которого будут определены два динамических protected свойства: \n",
    "1) _index - передается параметром и 2) _state - принимает первое значение из словаря states\n",
    "Создайте метод grow(), который будет переводить томат на следующую стадию созревания\n",
    "Создайте метод is_ripe(), который будет проверять, что томат созрел (достиг последней стадии созревания)\n",
    "'''\n",
    "#@title Решение\n",
    "class Tomato:\n",
    "\n",
    "    # Стадии созревания помидора\n",
    "    states = {0: 'nothing', 1: 'flower', 2: 'green_tomato', 3: 'red_tomato'}\n",
    "\n",
    "    def __init__(self, index):\n",
    "        self._index = index\n",
    "        self._state = 0\n",
    "\n",
    "    # Переход к следующей стадии созревания\n",
    "    def grow(self):\n",
    "        self._change_state()\n",
    "\n",
    "    # Проверка, созрел ли томат\n",
    "    def is_ripe(self):\n",
    "        if self._state == 3:\n",
    "            return True\n",
    "        return False\n",
    "\n",
    "    # Защищенные(protected) методы\n",
    "\n",
    "    def _change_state(self):\n",
    "        if self._state < 3:\n",
    "            self._state += 1\n",
    "        self._print_state()\n",
    "\n",
    "    def _print_state(self):\n",
    "        print(f'Tomato {self._index} is {Tomato.states[self._state]}')\n",
    "        "
   ]
  },
  {
   "cell_type": "code",
   "execution_count": null,
   "metadata": {},
   "outputs": [],
   "source": [
    "'''\n",
    "Класс TomatoBush:\n",
    "\n",
    "Создайте класс TomatoBush\n",
    "Определите метод init(), который будет принимать в качестве параметра количество томатов \n",
    "и на его основе будет создавать список объектов класса Tomato. Данный список будет храниться внутри динамического свойства tomatoes.\n",
    "Создайте метод grow_all(), который будет переводить все объекты из списка томатов на следующий этап созревания\n",
    "Создайте метод all_are_ripe(), который будет возвращать True, если все томаты из списка стали спелыми\n",
    "Создайте метод give_away_all(), который будет чистить список томатов после сбора урожая\n",
    "'''\n",
    "class TomatoBush:\n",
    "\n",
    "    # Создаем список из объектов класса Tomato\n",
    "    def __init__(self, num):\n",
    "        self.tomatoes = [Tomato(index) for index in range(0, num)]\n",
    "\n",
    "    # Переводим все томаты из списка на следующий этап созревания\n",
    "    def grow_all(self):\n",
    "        for tomato in self.tomatoes:\n",
    "            tomato.grow()\n",
    "\n",
    "    # Проверяем, все ли помидоры созрели\n",
    "    def all_are_ripe(self):\n",
    "        return all([tomato.is_ripe() for tomato in self.tomatoes])\n",
    "\n",
    "    # Собираем урожай\n",
    "    def give_away_all(self):\n",
    "        self.tomatoes = []"
   ]
  },
  {
   "cell_type": "code",
   "execution_count": null,
   "metadata": {},
   "outputs": [
    {
     "name": "stdout",
     "output_type": "stream",
     "text": [
      "Harvest time for tomatoes should ideally occur\n",
      "when the fruit is a mature green and\n",
      "then allowed to ripen off the vine.\n",
      "This prevents splitting or bruising\n",
      "and allows for a measure of control over the ripening process.\n",
      "Gardener is working...\n",
      "Tomato 0 is flower\n",
      "Tomato 1 is flower\n",
      "Tomato 2 is flower\n",
      "Tomato 3 is flower\n",
      "Gardener finished\n",
      "Gardener is working...\n",
      "Tomato 0 is green_tomato\n",
      "Tomato 1 is green_tomato\n",
      "Tomato 2 is green_tomato\n",
      "Tomato 3 is green_tomato\n",
      "Gardener finished\n",
      "Gardener is harvesting...\n",
      "Too early! Your plant is green and not ripe.\n",
      "Gardener is working...\n",
      "Tomato 0 is red_tomato\n",
      "Tomato 1 is red_tomato\n",
      "Tomato 2 is red_tomato\n",
      "Tomato 3 is red_tomato\n",
      "Gardener finished\n",
      "Gardener is harvesting...\n",
      "Harvesting is finished\n"
     ]
    }
   ],
   "source": [
    "'''\n",
    "Класс Gardener:\n",
    "\n",
    "Создайте класс Gardener\n",
    "Создайте метод init(), внутри которого будут определены два динамических свойства: \n",
    "1) name - передается параметром, является публичным и 2) _plant - принимает объект класса TomatoBush, является protected\n",
    "Создайте метод work(), который заставляет садовника работать, что позволяет растению становиться более зрелым\n",
    "Создайте метод harvest(), который проверяет, все ли плоды созрели. \n",
    "Если все - садовник собирает урожай. Если нет - метод печатает предупреждение.\n",
    "Создайте статический метод knowledge_base(), который выведет в консоль справку по садоводству.\n",
    "'''      \n",
    "class Gardener:\n",
    "\n",
    "    # Выдаем садовнику растение для ухода\n",
    "    def __init__(self, name, plant):\n",
    "        self.name = name\n",
    "        self._plant = plant\n",
    "\n",
    "    # Ухаживаем за растением\n",
    "    def work(self):\n",
    "        print('Gardener is working...')\n",
    "        self._plant.grow_all()\n",
    "        print('Gardener finished')\n",
    "\n",
    "    # Собираем урожай\n",
    "    def harvest(self):\n",
    "        print('Gardener is harvesting...')\n",
    "        if self._plant.all_are_ripe():\n",
    "            self._plant.give_away_all()\n",
    "            print('Harvesting is finished')\n",
    "        else:\n",
    "            print('Too early! Your plant is green and not ripe.')\n",
    "\n",
    "    # Статический метод\n",
    "    # Выводит справку по садоводству\n",
    "    @staticmethod\n",
    "    def knowledge_base():\n",
    "        print('''Harvest time for tomatoes should ideally occur\n",
    "when the fruit is a mature green and\n",
    "then allowed to ripen off the vine.\n",
    "This prevents splitting or bruising\n",
    "and allows for a measure of control over the ripening process.''')\n",
    "        \n",
    "# Тесты\n",
    "Gardener.knowledge_base()\n",
    "great_tomato_bush = TomatoBush(4)\n",
    "gardener = Gardener('Emilio', great_tomato_bush)\n",
    "gardener.work()\n",
    "gardener.work()\n",
    "gardener.harvest()\n",
    "gardener.work()\n",
    "gardener.harvest()\n"
   ]
  },
  {
   "cell_type": "code",
   "execution_count": null,
   "metadata": {},
   "outputs": [
    {
     "name": "stdout",
     "output_type": "stream",
     "text": [
      "Default Name: No name\n",
      "Default Age: 0\n",
      "Name: Sasha\n",
      "Age: 27\n",
      "Money: 0\n",
      "House: None\n",
      "Final price: 8075.0\n",
      "Not enough money\n",
      "Earned 5000 money! Current value: 5000\n",
      "Final price: 8075.0\n",
      "Not enough money\n",
      "Earned 20000 money! Current value: 25000\n",
      "Final price: 8075.0\n",
      "Name: Sasha\n",
      "Age: 27\n",
      "Money: 16925.0\n",
      "House: <__main__.SmallHouse object at 0x00000250B0E12AF0>\n"
     ]
    }
   ],
   "source": [
    "'''\n",
    "Задача\n",
    "С помощью подхода ООП и средств Python в рамках данной задачи необходимо реализовать следующую предметную структуру:\n",
    "\n",
    "Человек, характеристиками которого являются:\n",
    "\n",
    "Имя\n",
    "Возраст\n",
    "Наличие денег\n",
    "Наличие собственного жилья\n",
    "Человек может:\n",
    "\n",
    "Предоставить информацию о себе\n",
    "Заработать деньги\n",
    "Купить дом\n",
    "Дом, к свойствам которого относятся:\n",
    "\n",
    "Площадь\n",
    "Стоимость Дома можно:\n",
    "Применить скидку на покупку\n",
    "Небольшой Типовой Дом, обязательной площадью 40м2.\n",
    "'''\n",
    "# РЕШЕНИЕ\n",
    "\n",
    "class Human:\n",
    "    \n",
    "    # статические поля\n",
    "    default_name = 'No name'\n",
    "    default_age = 0\n",
    "    '''\n",
    "    Метод инициализирует объект класса Human конкретными параметрами:\n",
    "    name, age, money и house\n",
    "    '''\n",
    "    def __init__(self, name = default_name, age = default_age):\n",
    "        self.name = name\n",
    "        self.age = age\n",
    "        self.__money = 0\n",
    "        self.__house = None\n",
    "        \n",
    "    '''\n",
    "    Метод возвращает информацию о человеке: имя, возраст, наличие денег и жилья\n",
    "    '''\n",
    "    def info(self):\n",
    "        print(f'Name: {self.name}')\n",
    "        print(f'Age: {self.age}')\n",
    "        print(f'Money: {self.__money}')\n",
    "        print(f'House: {self.__house}')\n",
    "    \n",
    "    '''\n",
    "    Метод возвращает статические атрибуты класса\n",
    "    '''\n",
    "    @staticmethod\n",
    "    def default_info():\n",
    "        print(f'Default Name: {Human.default_name}')\n",
    "        print(f'Default Age: {Human.default_age}')\n",
    "        \n",
    "    '''\n",
    "    Метод увеличивает значение атрибута денег\n",
    "    '''\n",
    "    def earn_money(self, amount):\n",
    "        self.__money += amount\n",
    "        print(f'Earned {amount} money! Current value: {self.__money}')\n",
    "        \n",
    "    '''\n",
    "    Метод, который будет проверять, что у человека достаточно денег для покупки, и совершать сделку.\n",
    "    Если денег слишком мало - нужно вывести предупреждение в консоль.\n",
    "    Параметры метода: ссылка на дом и размер скидки\n",
    "    '''\n",
    "    def buy_house(self, house, discount):\n",
    "        price = house.final_price(discount)\n",
    "        if self.__money >= price:\n",
    "            self.__make_deal(house, price)\n",
    "        else:\n",
    "            print('Not enough money')\n",
    "    \n",
    "    '''\n",
    "    Приватный метод, который будет отвечать за техническую реализацию покупки дома:\n",
    "    уменьшать количество денег на счету и присваивать ссылку на только что купленный дом.\n",
    "    В качестве аргументов данный метод принимает объект дома и его цену.\n",
    "    '''\n",
    "    def __make_deal(self, house, price):\n",
    "        self.__money = self.__money - price\n",
    "        self.__house = house\n",
    "        \n",
    "class House:\n",
    "    '''\n",
    "    Метод инициализирует объект класса Human конкретными параметрами:\n",
    "    _area, _price\n",
    "    '''\n",
    "    def __init__(self, area, price):\n",
    "        self._area = area\n",
    "        self._price = price\n",
    "    \n",
    "    '''\n",
    "    Метод, который принимает в качестве параметра размер скидки и возвращает цену с учетом данной скидки.\n",
    "    '''\n",
    "    def final_price(self, discount):\n",
    "        final_price = self._price * (100 - discount) / 100\n",
    "        print(f'Final price: {final_price}')\n",
    "        return final_price\n",
    "    \n",
    "class SmallHouse(House):\n",
    "    default_area = 40\n",
    "\n",
    "    def __init__(self, price):\n",
    "        super().__init__(SmallHouse.default_area, price)\n",
    "        \n",
    "Human.default_info()\n",
    "\n",
    "alexander = Human('Sasha', 27)\n",
    "alexander.info()\n",
    "\n",
    "small_house = SmallHouse(8_500)\n",
    "\n",
    "alexander.buy_house(small_house, 5)\n",
    "\n",
    "alexander.earn_money(5_000)\n",
    "alexander.buy_house(small_house, 5)\n",
    "\n",
    "alexander.earn_money(20_000)\n",
    "alexander.buy_house(small_house, 5)\n",
    "alexander.info()\n",
    "  "
   ]
  },
  {
   "cell_type": "code",
   "execution_count": null,
   "metadata": {},
   "outputs": [
    {
     "name": "stdout",
     "output_type": "stream",
     "text": [
      "[1.0, 17.0, 4.0, 0.0, 8.0]\n",
      "6.892024376045111\n",
      "4.0\n"
     ]
    }
   ],
   "source": [
    "import statistics\n",
    "\n",
    "class DataFrame():\n",
    "    def __init__(self, column, fill_value=0):\n",
    "        # Инициализируем атрибуты\n",
    "        self.column = column\n",
    "        self.fill_value = fill_value\n",
    "        # Заполним пропуски\n",
    "        self.fill_missed()\n",
    "        # Конвертируем все элементы в числа\n",
    "        self.to_float()\n",
    "\n",
    "    def fill_missed(self):\n",
    "        for i, value in enumerate(self.column):\n",
    "            if value is None or value == '':\n",
    "                self.column[i] = self.fill_value\n",
    "\n",
    "    def to_float(self):\n",
    "        self.column = [float(value) for value in self.column]\n",
    "\n",
    "    def median(self):\n",
    "        return statistics.median(self.column)\n",
    "\n",
    "    def mean(self):\n",
    "        return statistics.mean(self.column)\n",
    "\n",
    "    def deviation(self):\n",
    "        return statistics.stdev(self.column)\n",
    "\n",
    "\n",
    "# Воспользуемся классом\n",
    "df = DataFrame([\"1\", 17, 4, None, 8])\n",
    "\n",
    "print(df.column)\n",
    "print(df.deviation())\n",
    "print(df.median())\n"
   ]
  },
  {
   "cell_type": "markdown",
   "metadata": {},
   "source": [
    "#### Создание собственных исключений. Наследование исключений"
   ]
  },
  {
   "cell_type": "code",
   "execution_count": null,
   "metadata": {},
   "outputs": [
    {
     "name": "stdout",
     "output_type": "stream",
     "text": [
      "Error: Number should not be 0.\n"
     ]
    }
   ],
   "source": [
    "# Создадим функцию, в которой будет вызываться наше исключение\n",
    "class DemoException(Exception):\n",
    "    def __init__(self, message):\n",
    "        super().__init__(message)\n",
    "\n",
    "\n",
    "message = \"Exception Triggered! Something went wrong.\"\n",
    "\n",
    "def triggerException(num):\n",
    "    if num == 0:\n",
    "        raise DemoException(message)\n",
    "    else:\n",
    "        print(num)\n",
    "\n",
    "\n",
    "try:\n",
    "    triggerException(0)\n",
    "    print(\"Code has successfully been executed.\")\n",
    "except DemoException:\n",
    "    print(\"Error: Number should not be 0.\")"
   ]
  },
  {
   "cell_type": "code",
   "execution_count": null,
   "metadata": {},
   "outputs": [
    {
     "name": "stdout",
     "output_type": "stream",
     "text": [
      "sample string is not a number.\n"
     ]
    }
   ],
   "source": [
    "# Добавим еще одно исключение\n",
    "class DemoException(Exception):\n",
    "    def __init__(self, message):\n",
    "        super().__init__(message)\n",
    "\n",
    "class NumberFormatException(Exception):\n",
    "    def __init__(self, message, value):\n",
    "        message = f'{value} is not a number'\n",
    "        super().__init__(message)\n",
    "\n",
    "message = \"Exception occured.\"\n",
    "\n",
    "def triggerException(num):\n",
    "    if (not num.isdigit()):\n",
    "        raise NumberFormatException(message, num)\n",
    "    elif (num == 0):\n",
    "        raise DemoException(message)\n",
    "    else:\n",
    "        print(num)\n",
    "\n",
    "num = \"sample string\"\n",
    "try:\n",
    "    triggerException(num)\n",
    "    print(\"Code has successfully been executed.\")\n",
    "except DemoException:\n",
    "    print(\"Error: Number should not be 0.\")\n",
    "except NumberFormatException:\n",
    "    print(num+\" is not a number.\")\n",
    "    \n"
   ]
  },
  {
   "cell_type": "code",
   "execution_count": 99,
   "metadata": {},
   "outputs": [
    {
     "name": "stdout",
     "output_type": "stream",
     "text": [
      "Usual Soda\n",
      "Soda with mint\n"
     ]
    }
   ],
   "source": [
    "'''Создайте класс Soda (для определения типа газированной воды), принимающий 1 аргумент при инициализации \n",
    "(отвечающий за добавку к выбираемому лимонаду). В этом классе реализуйте метод show_my_drink(),\n",
    "выводящий на печать «Газировка и {ДОБАВКА}» в случае наличия добавки, а иначе отобразится следующая фраза: «Обычная газировка».'''\n",
    "\n",
    "class Soda:\n",
    "    def __init__(self, toping=None):\n",
    "        self.toping = toping    \n",
    "    def show_my_drink(self):\n",
    "        if self.toping:\n",
    "            return f'Soda with {self.toping}'\n",
    "        else:\n",
    "            return 'Usual Soda'\n",
    "drink_1 = Soda()\n",
    "print(drink_1.show_my_drink())\n",
    "drink_2 = Soda('mint')\n",
    "print(drink_2.show_my_drink())\n",
    "        "
   ]
  },
  {
   "cell_type": "code",
   "execution_count": null,
   "metadata": {},
   "outputs": [
    {
     "name": "stdout",
     "output_type": "stream",
     "text": [
      "Rectangle (5, 10, 50, 100)\n"
     ]
    }
   ],
   "source": [
    "'''Создайте класс любых геометрических фигур (например, прямоугольник), где на выход получаем характеристики фигуры.\n",
    "Каждый экземпляр должен иметь атрибуты x, y, width и height (зависит от выбранной фигуры).\n",
    "Вы должны иметь возможность передавать атрибуты при создании, например, для прямоугольника, \n",
    "следующим образом (где x = 5, y = 10, width = 50, height = 100 в этом порядке).\n",
    "Создайте метод, который возвращает прямоугольник как строку (подсказка: реализация str). \n",
    "Для объекта прямоугольника со значениями атрибута x = 5, y = 10, width = 50, height = 100,\n",
    "метод должен вернуть строку Rectangle (5, 10, 50, 100).'''\n",
    "class Rectangle:\n",
    "    def __init__(self, x, y, width, height):\n",
    "        self.x = x\n",
    "        self.y = y\n",
    "        self.width = width\n",
    "        self.height = height\n",
    "            \n",
    "    def __str__(self):\n",
    "        return f'Rectangle {self.x, self.y, self.width, self.height}'\n",
    "    \n",
    "        \n",
    "geo = Rectangle(x = 5, y = 10, width = 50, height = 100)\n",
    "print(geo)"
   ]
  },
  {
   "cell_type": "code",
   "execution_count": null,
   "metadata": {},
   "outputs": [],
   "source": [
    "'''Команда проекта «Дом питомца» планирует большой корпоратив для своих волонтеров. \n",
    "Вам необходимо написать программу, которая позволяла бы составлять список нескольких гостей. \n",
    "Решите задачу с помощью метода конструктора и примените один из принципов наследования.\n",
    "При выводе в консоль вы должны получить: «Иван Петров, г. Москва, статус \"Наставник\"»'''\n",
    "class Team:\n",
    "    def __init__(self, dictionary_team):\n",
    "        self.dictionary_team = {self.first_name + self.family_name: [self.city, self.status]}\n",
    "           \n",
    "        \n",
    "class Cooperative(Team):\n",
    "    def __init__(self, name, city, status):\n",
    "        super.__init__(dictionary_team)\n",
    "        self.name = dictionary_team.keys()\n",
    "        self.city = city\n",
    "        self.status = status\n",
    "    def __str__(self):\n",
    "        return f'{self.first_name} {self.family_name}, г. {self.city}, статус {self.status}'\n",
    "\n",
    "    \n"
   ]
  },
  {
   "cell_type": "code",
   "execution_count": 98,
   "metadata": {},
   "outputs": [
    {
     "name": "stdout",
     "output_type": "stream",
     "text": [
      "The blue car has 20,000 miles\n"
     ]
    }
   ],
   "source": [
    "class Car:\n",
    "    def __init__(self, color, mileage):\n",
    "        self.color = color\n",
    "        self.mileage = mileage\n",
    "    def __str__(self):\n",
    "        return f'The {self.color} car has {self.mileage:,} miles'\n",
    "\n",
    "car_1 = Car(color = 'blue', mileage = 20000)\n",
    "print(car_1)"
   ]
  },
  {
   "cell_type": "code",
   "execution_count": 106,
   "metadata": {},
   "outputs": [
    {
     "name": "stdout",
     "output_type": "stream",
     "text": [
      "Bobbi is 5 years old\n",
      "Bobbi says Bark\n"
     ]
    }
   ],
   "source": [
    "class Dog:\n",
    "    species = \"Canis familiaris\"\n",
    "\n",
    "    def __init__(self, name, age):\n",
    "        self.name = name\n",
    "        self.age = age\n",
    "\n",
    "    def __str__(self):\n",
    "        return f\"{self.name} is {self.age} years old\"\n",
    "\n",
    "    def speak(self, sound):\n",
    "        return f\"{self.name} says {sound}\"\n",
    "\n",
    "class GoldenRetriever(Dog):\n",
    "    def speak(self, sound='Bark'):\n",
    "        return super().speak(sound)\n",
    "        \n",
    "bob = GoldenRetriever('Bobbi', 5)\n",
    "print(bob)\n",
    "print(bob.speak())\n"
   ]
  },
  {
   "cell_type": "code",
   "execution_count": 107,
   "metadata": {},
   "outputs": [
    {
     "ename": "ValueError",
     "evalue": "positive width expected, got -21",
     "output_type": "error",
     "traceback": [
      "\u001b[1;31m---------------------------------------------------------------------------\u001b[0m",
      "\u001b[1;31mValueError\u001b[0m                                Traceback (most recent call last)",
      "\u001b[1;32mc:\\IDE\\SkillFactory\\PY_15_ООП в Python\\Исключения  и создание классов из вебинара.ipynb Cell 26\u001b[0m line \u001b[0;36m1\n\u001b[0;32m      <a href='vscode-notebook-cell:/c%3A/IDE/SkillFactory/PY_15_%D0%9E%D0%9E%D0%9F%20%D0%B2%20Python/%D0%98%D1%81%D0%BA%D0%BB%D1%8E%D1%87%D0%B5%D0%BD%D0%B8%D1%8F%20%20%D0%B8%20%D1%81%D0%BE%D0%B7%D0%B4%D0%B0%D0%BD%D0%B8%D0%B5%20%D0%BA%D0%BB%D0%B0%D1%81%D1%81%D0%BE%D0%B2%20%D0%B8%D0%B7%20%D0%B2%D0%B5%D0%B1%D0%B8%D0%BD%D0%B0%D1%80%D0%B0.ipynb#X34sZmlsZQ%3D%3D?line=6'>7</a>\u001b[0m             \u001b[39mraise\u001b[39;00m \u001b[39mValueError\u001b[39;00m(\u001b[39mf\u001b[39m\u001b[39m\"\u001b[39m\u001b[39mpositive height expected, got \u001b[39m\u001b[39m{\u001b[39;00mheight\u001b[39m}\u001b[39;00m\u001b[39m\"\u001b[39m)\n\u001b[0;32m      <a href='vscode-notebook-cell:/c%3A/IDE/SkillFactory/PY_15_%D0%9E%D0%9E%D0%9F%20%D0%B2%20Python/%D0%98%D1%81%D0%BA%D0%BB%D1%8E%D1%87%D0%B5%D0%BD%D0%B8%D1%8F%20%20%D0%B8%20%D1%81%D0%BE%D0%B7%D0%B4%D0%B0%D0%BD%D0%B8%D0%B5%20%D0%BA%D0%BB%D0%B0%D1%81%D1%81%D0%BE%D0%B2%20%D0%B8%D0%B7%20%D0%B2%D0%B5%D0%B1%D0%B8%D0%BD%D0%B0%D1%80%D0%B0.ipynb#X34sZmlsZQ%3D%3D?line=7'>8</a>\u001b[0m         \u001b[39mself\u001b[39m\u001b[39m.\u001b[39mheight \u001b[39m=\u001b[39m height\n\u001b[1;32m---> <a href='vscode-notebook-cell:/c%3A/IDE/SkillFactory/PY_15_%D0%9E%D0%9E%D0%9F%20%D0%B2%20Python/%D0%98%D1%81%D0%BA%D0%BB%D1%8E%D1%87%D0%B5%D0%BD%D0%B8%D1%8F%20%20%D0%B8%20%D1%81%D0%BE%D0%B7%D0%B4%D0%B0%D0%BD%D0%B8%D0%B5%20%D0%BA%D0%BB%D0%B0%D1%81%D1%81%D0%BE%D0%B2%20%D0%B8%D0%B7%20%D0%B2%D0%B5%D0%B1%D0%B8%D0%BD%D0%B0%D1%80%D0%B0.ipynb#X34sZmlsZQ%3D%3D?line=10'>11</a>\u001b[0m rectangle \u001b[39m=\u001b[39m Rectangle(\u001b[39m-\u001b[39;49m\u001b[39m21\u001b[39;49m, \u001b[39m42\u001b[39;49m)\n",
      "\u001b[1;32mc:\\IDE\\SkillFactory\\PY_15_ООП в Python\\Исключения  и создание классов из вебинара.ipynb Cell 26\u001b[0m line \u001b[0;36m4\n\u001b[0;32m      <a href='vscode-notebook-cell:/c%3A/IDE/SkillFactory/PY_15_%D0%9E%D0%9E%D0%9F%20%D0%B2%20Python/%D0%98%D1%81%D0%BA%D0%BB%D1%8E%D1%87%D0%B5%D0%BD%D0%B8%D1%8F%20%20%D0%B8%20%D1%81%D0%BE%D0%B7%D0%B4%D0%B0%D0%BD%D0%B8%D0%B5%20%D0%BA%D0%BB%D0%B0%D1%81%D1%81%D0%BE%D0%B2%20%D0%B8%D0%B7%20%D0%B2%D0%B5%D0%B1%D0%B8%D0%BD%D0%B0%D1%80%D0%B0.ipynb#X34sZmlsZQ%3D%3D?line=1'>2</a>\u001b[0m \u001b[39mdef\u001b[39;00m \u001b[39m__init__\u001b[39m(\u001b[39mself\u001b[39m, width, height):\n\u001b[0;32m      <a href='vscode-notebook-cell:/c%3A/IDE/SkillFactory/PY_15_%D0%9E%D0%9E%D0%9F%20%D0%B2%20Python/%D0%98%D1%81%D0%BA%D0%BB%D1%8E%D1%87%D0%B5%D0%BD%D0%B8%D1%8F%20%20%D0%B8%20%D1%81%D0%BE%D0%B7%D0%B4%D0%B0%D0%BD%D0%B8%D0%B5%20%D0%BA%D0%BB%D0%B0%D1%81%D1%81%D0%BE%D0%B2%20%D0%B8%D0%B7%20%D0%B2%D0%B5%D0%B1%D0%B8%D0%BD%D0%B0%D1%80%D0%B0.ipynb#X34sZmlsZQ%3D%3D?line=2'>3</a>\u001b[0m     \u001b[39mif\u001b[39;00m \u001b[39mnot\u001b[39;00m (\u001b[39misinstance\u001b[39m(width, (\u001b[39mint\u001b[39m, \u001b[39mfloat\u001b[39m)) \u001b[39mand\u001b[39;00m width \u001b[39m>\u001b[39m \u001b[39m0\u001b[39m):\n\u001b[1;32m----> <a href='vscode-notebook-cell:/c%3A/IDE/SkillFactory/PY_15_%D0%9E%D0%9E%D0%9F%20%D0%B2%20Python/%D0%98%D1%81%D0%BA%D0%BB%D1%8E%D1%87%D0%B5%D0%BD%D0%B8%D1%8F%20%20%D0%B8%20%D1%81%D0%BE%D0%B7%D0%B4%D0%B0%D0%BD%D0%B8%D0%B5%20%D0%BA%D0%BB%D0%B0%D1%81%D1%81%D0%BE%D0%B2%20%D0%B8%D0%B7%20%D0%B2%D0%B5%D0%B1%D0%B8%D0%BD%D0%B0%D1%80%D0%B0.ipynb#X34sZmlsZQ%3D%3D?line=3'>4</a>\u001b[0m         \u001b[39mraise\u001b[39;00m \u001b[39mValueError\u001b[39;00m(\u001b[39mf\u001b[39m\u001b[39m\"\u001b[39m\u001b[39mpositive width expected, got \u001b[39m\u001b[39m{\u001b[39;00mwidth\u001b[39m}\u001b[39;00m\u001b[39m\"\u001b[39m)\n\u001b[0;32m      <a href='vscode-notebook-cell:/c%3A/IDE/SkillFactory/PY_15_%D0%9E%D0%9E%D0%9F%20%D0%B2%20Python/%D0%98%D1%81%D0%BA%D0%BB%D1%8E%D1%87%D0%B5%D0%BD%D0%B8%D1%8F%20%20%D0%B8%20%D1%81%D0%BE%D0%B7%D0%B4%D0%B0%D0%BD%D0%B8%D0%B5%20%D0%BA%D0%BB%D0%B0%D1%81%D1%81%D0%BE%D0%B2%20%D0%B8%D0%B7%20%D0%B2%D0%B5%D0%B1%D0%B8%D0%BD%D0%B0%D1%80%D0%B0.ipynb#X34sZmlsZQ%3D%3D?line=4'>5</a>\u001b[0m     \u001b[39mself\u001b[39m\u001b[39m.\u001b[39mwidth \u001b[39m=\u001b[39m width\n\u001b[0;32m      <a href='vscode-notebook-cell:/c%3A/IDE/SkillFactory/PY_15_%D0%9E%D0%9E%D0%9F%20%D0%B2%20Python/%D0%98%D1%81%D0%BA%D0%BB%D1%8E%D1%87%D0%B5%D0%BD%D0%B8%D1%8F%20%20%D0%B8%20%D1%81%D0%BE%D0%B7%D0%B4%D0%B0%D0%BD%D0%B8%D0%B5%20%D0%BA%D0%BB%D0%B0%D1%81%D1%81%D0%BE%D0%B2%20%D0%B8%D0%B7%20%D0%B2%D0%B5%D0%B1%D0%B8%D0%BD%D0%B0%D1%80%D0%B0.ipynb#X34sZmlsZQ%3D%3D?line=5'>6</a>\u001b[0m     \u001b[39mif\u001b[39;00m \u001b[39mnot\u001b[39;00m (\u001b[39misinstance\u001b[39m(height, (\u001b[39mint\u001b[39m, \u001b[39mfloat\u001b[39m)) \u001b[39mand\u001b[39;00m height \u001b[39m>\u001b[39m \u001b[39m0\u001b[39m):\n",
      "\u001b[1;31mValueError\u001b[0m: positive width expected, got -21"
     ]
    }
   ],
   "source": [
    "# при инициализации экземпляра класса можно задать проверку вводимых пользователем данных(атрибутов объекта)\n",
    "class Rectangle:\n",
    "    def __init__(self, width, height):\n",
    "        if not (isinstance(width, (int, float)) and width > 0):\n",
    "            raise ValueError(f\"positive width expected, got {width}\")\n",
    "        self.width = width\n",
    "        if not (isinstance(height, (int, float)) and height > 0):\n",
    "            raise ValueError(f\"positive height expected, got {height}\")\n",
    "        self.height = height\n",
    "\n",
    "\n",
    "rectangle = Rectangle(-21, 42)\n"
   ]
  },
  {
   "cell_type": "code",
   "execution_count": 108,
   "metadata": {},
   "outputs": [
    {
     "name": "stdout",
     "output_type": "stream",
     "text": [
      "Hello, Pythonista!\n",
      "Good morning, Pythonista!\n"
     ]
    }
   ],
   "source": [
    "# использование необязательных аргументов Formal:\n",
    "class Greeter:\n",
    "    def __init__(self, name, formal=False):\n",
    "        self.name = name\n",
    "        self.formal = formal\n",
    "\n",
    "    def greet(self):\n",
    "        if self.formal:\n",
    "            print(f\"Good morning, {self.name}!\")\n",
    "        else:\n",
    "            print(f\"Hello, {self.name}!\")\n",
    "            \n",
    "informal_greeter = Greeter(\"Pythonista\")\n",
    "informal_greeter.greet()\n",
    "\n",
    "formal_greeter = Greeter(\"Pythonista\", formal=True)\n",
    "formal_greeter.greet()"
   ]
  }
 ],
 "metadata": {
  "kernelspec": {
   "display_name": "Python 3",
   "language": "python",
   "name": "python3"
  },
  "language_info": {
   "codemirror_mode": {
    "name": "ipython",
    "version": 3
   },
   "file_extension": ".py",
   "mimetype": "text/x-python",
   "name": "python",
   "nbconvert_exporter": "python",
   "pygments_lexer": "ipython3",
   "version": "3.9.10"
  },
  "orig_nbformat": 4
 },
 "nbformat": 4,
 "nbformat_minor": 2
}
