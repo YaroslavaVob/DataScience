{
 "cells": [
  {
   "cell_type": "code",
   "execution_count": 53,
   "metadata": {},
   "outputs": [
    {
     "data": {
      "text/plain": [
       "'\\npath/to/file — путь к файлу может быть относительным или абсолютным (в Windows-стиле (path\\to\\x0cile))\\n\\nfilemode — режим, в котором файл нужно открывать:\\nЗаписывается в виде строки, может принимать следующие значения:\\nr — открыть на чтение (по умолчанию);\\nw — перезаписать и открыть на запись (если файла нет, то он создастся);\\nx — создать и открыть на запись (если уже есть — исключение);\\na — открыть на дозапись (указатель будет поставлен в конец);\\nt — открыть в текстовом виде (по умолчанию);\\nb — открыть в бинарном виде.\\n\\nencoding — указание, в какой кодировке файл записан (utf8, cp1251 и т. д.) \\nо умолчанию стоит utf-8. При этом можно записывать кодировку как через дефис, так и без: utf-8 или utf8.\\n'"
      ]
     },
     "execution_count": 53,
     "metadata": {},
     "output_type": "execute_result"
    }
   ],
   "source": [
    "# f = open('path/to/file', 'filemode', encoding='utf8')\n",
    "'''\n",
    "path/to/file — путь к файлу может быть относительным или абсолютным (в Windows-стиле (path\\to\\file))\n",
    "\n",
    "filemode — режим, в котором файл нужно открывать:\n",
    "Записывается в виде строки, может принимать следующие значения:\n",
    "r — открыть на чтение (по умолчанию);\n",
    "w — перезаписать и открыть на запись (если файла нет, то он создастся);\n",
    "x — создать и открыть на запись (если уже есть — исключение);\n",
    "a — открыть на дозапись (указатель будет поставлен в конец);\n",
    "t — открыть в текстовом виде (по умолчанию);\n",
    "b — открыть в бинарном виде.\n",
    "\n",
    "encoding — указание, в какой кодировке файл записан (utf8, cp1251 и т. д.) \n",
    "о умолчанию стоит utf-8. При этом можно записывать кодировку как через дефис, так и без: utf-8 или utf8.\n",
    "'''"
   ]
  },
  {
   "cell_type": "code",
   "execution_count": 54,
   "metadata": {},
   "outputs": [],
   "source": [
    "# Откроем файл на запись и с помощью метода write запишем в него строку. \n",
    "# В качестве результата метод write возвращает количество записанных символов.\n",
    "f = open('test.txt', 'w', encoding='utf8')\n",
    "\n",
    "# Запишем в файл строку\n",
    "f.write(\"This is a test string\\n\")\n",
    "f.write(\"This is a new string\\n\")\n",
    "\n",
    "# обязательно нужно закрыть файл иначе он будет заблокирован ОС\n",
    "f.close()"
   ]
  },
  {
   "cell_type": "code",
   "execution_count": 55,
   "metadata": {},
   "outputs": [
    {
     "name": "stdout",
     "output_type": "stream",
     "text": [
      "This is a \n",
      "test string\n",
      "This is a new string\n",
      "\n"
     ]
    }
   ],
   "source": [
    "# Откроем файл для чтения, в который только что записали две строки:\n",
    "f = open('test.txt', 'r', encoding='utf8')   \n",
    "print(f.read(10)) \n",
    "# считали остаток файла\n",
    "print(f.read()) \n",
    "\n",
    "# после работы обязательно закрываем файл\n",
    "f.close()"
   ]
  },
  {
   "cell_type": "code",
   "execution_count": 56,
   "metadata": {},
   "outputs": [],
   "source": [
    "# Метод f.writelines(sequence) не будет сам за вас дописывать символ конца строки ('\\n'), \n",
    "# поэтому при необходимости его нужно прописать вручную.\n",
    "f = open('test.txt', 'a', encoding='utf8') # открываем файл на дозапись\n",
    "\n",
    "sequence = [\"other string\\n\", \"123\\n\", \"test test\\n\"]\n",
    "f.writelines(sequence) # берет строки из sequence и записывает в файл (без переносов)\n",
    "\n",
    "f.close()"
   ]
  },
  {
   "cell_type": "code",
   "execution_count": 57,
   "metadata": {},
   "outputs": [
    {
     "name": "stdout",
     "output_type": "stream",
     "text": [
      "['This is a test string\\n', 'This is a new string\\n', 'other string\\n', '123\\n', 'test test\\n']\n"
     ]
    }
   ],
   "source": [
    "# Попробуем теперь построчно считать файл с помощью readlines:\n",
    "f = open('test.txt', 'r', encoding='utf8')\n",
    "\n",
    "print(f.readlines()) # считывает все строки в список и возвращает список\n",
    "\n",
    "f.close()"
   ]
  },
  {
   "cell_type": "code",
   "execution_count": 58,
   "metadata": {},
   "outputs": [
    {
     "name": "stdout",
     "output_type": "stream",
     "text": [
      "This is a test string\n",
      "\n",
      "This\n",
      " is a new string\n",
      "\n"
     ]
    }
   ],
   "source": [
    "# Метод f.readline() возвращает строку (символы от текущей позиции до символа переноса строки \\n, \n",
    "# который остаётся в конце строки и опускается только в последней строке файла, если файл не заканчивается новой строкой):\n",
    "f = open('test.txt', 'r', encoding='utf8')\n",
    "\n",
    "print(f.readline()) # This is a test string\n",
    "print(f.read(4)) # This\n",
    "print(f.readline()) # is a new string\n",
    "\n",
    "f.close()"
   ]
  },
  {
   "cell_type": "code",
   "execution_count": 59,
   "metadata": {},
   "outputs": [
    {
     "name": "stdout",
     "output_type": "stream",
     "text": [
      "This is a test string\n",
      "This is a new string\n",
      "other string\n",
      "123\n",
      "test test\n"
     ]
    }
   ],
   "source": [
    "# Не стоит считывать файл полностью — в большинстве задач с обработкой текста весь файл разом читать не требуется. \n",
    "# В таком случае с файлом работают построчно как с итератором:\n",
    "f = open('test.txt')  # можно перечислять строки в файле\n",
    "for line in f:\n",
    "    print(line, end='')\n",
    "\n",
    "f.close()"
   ]
  },
  {
   "cell_type": "code",
   "execution_count": 60,
   "metadata": {},
   "outputs": [
    {
     "ename": "ValueError",
     "evalue": "read of closed file",
     "output_type": "error",
     "traceback": [
      "\u001b[1;31m---------------------------------------------------------------------------\u001b[0m",
      "\u001b[1;31mValueError\u001b[0m                                Traceback (most recent call last)",
      "\u001b[1;32mc:\\IDE\\SkillFactory\\PY_15_ООП в Python\\Работа с файлами.ipynb Cell 8\u001b[0m line \u001b[0;36m6\n\u001b[0;32m      <a href='vscode-notebook-cell:/c%3A/IDE/SkillFactory/PY_15_%D0%9E%D0%9E%D0%9F%20%D0%B2%20Python/%D0%A0%D0%B0%D0%B1%D0%BE%D1%82%D0%B0%20%D1%81%20%D1%84%D0%B0%D0%B9%D0%BB%D0%B0%D0%BC%D0%B8.ipynb#X10sZmlsZQ%3D%3D?line=2'>3</a>\u001b[0m     a \u001b[39m=\u001b[39m f\u001b[39m.\u001b[39mread(\u001b[39m10\u001b[39m)\n\u001b[0;32m      <a href='vscode-notebook-cell:/c%3A/IDE/SkillFactory/PY_15_%D0%9E%D0%9E%D0%9F%20%D0%B2%20Python/%D0%A0%D0%B0%D0%B1%D0%BE%D1%82%D0%B0%20%D1%81%20%D1%84%D0%B0%D0%B9%D0%BB%D0%B0%D0%BC%D0%B8.ipynb#X10sZmlsZQ%3D%3D?line=3'>4</a>\u001b[0m     b \u001b[39m=\u001b[39m f\u001b[39m.\u001b[39mread(\u001b[39m23\u001b[39m)\n\u001b[1;32m----> <a href='vscode-notebook-cell:/c%3A/IDE/SkillFactory/PY_15_%D0%9E%D0%9E%D0%9F%20%D0%B2%20Python/%D0%A0%D0%B0%D0%B1%D0%BE%D1%82%D0%B0%20%D1%81%20%D1%84%D0%B0%D0%B9%D0%BB%D0%B0%D0%BC%D0%B8.ipynb#X10sZmlsZQ%3D%3D?line=5'>6</a>\u001b[0m f\u001b[39m.\u001b[39;49mread(\u001b[39m3\u001b[39;49m) \u001b[39m# Error!\u001b[39;00m\n",
      "\u001b[1;31mValueError\u001b[0m: read of closed file"
     ]
    }
   ],
   "source": [
    "# В блоке менеджера контекста with открытый файл «жив» и с ним можно работать, при выходе из блока - файл закрывается.\n",
    "with open(\"test.txt\", 'rb') as f:\n",
    "    a = f.read(10)\n",
    "    b = f.read(23)\n",
    "\n",
    "f.read(3) # Error!"
   ]
  },
  {
   "cell_type": "code",
   "execution_count": null,
   "metadata": {},
   "outputs": [
    {
     "name": "stdout",
     "output_type": "stream",
     "text": [
      "['Start of file\\n', 'First string\\n', 'second string\\n', 'first list\\n', 'second list\\n']\n",
      "['Start of file\\n', 'First string\\n', 'second string\\n', 'first list\\n', 'second list\\n']\n"
     ]
    }
   ],
   "source": [
    "# Создайте любой файл на операционной системе под название input.txt и построчно перепишите его в файл output.txt.\n",
    "\n",
    "file_test = open('input.txt', 'w', encoding = 'utf8')\n",
    "file_test.write('Start of file\\n')\n",
    "sequence = ['First string\\n', 'second string\\n', 'first list\\n', 'second list\\n']\n",
    "file_test.writelines(sequence)\n",
    "file_test.close()\n",
    "\n",
    "file_test = open('input.txt', 'r', encoding = 'utf8')\n",
    "print(file_test.readlines())\n",
    "file_test.close()\n",
    "\n",
    "with open('input.txt', 'r') as file_test:\n",
    "    with open(\"output.txt\", \"w\") as new_file:\n",
    "              for line in file_test:\n",
    "                  new_file.write(line)\n",
    "    \n",
    "new_file = open('output.txt', 'r', encoding = 'utf8')\n",
    "print(new_file.readlines())\n",
    "new_file.close()\n",
    "\n",
    "# эталонное решение\n",
    "with open(\"input.txt\", \"r\") as input_file:\n",
    "    with open(\"output.txt\", \"w\") as output_file:\n",
    "        for line in input_file:\n",
    "            output_file.write(line)\n",
    "    \n"
   ]
  },
  {
   "cell_type": "code",
   "execution_count": 73,
   "metadata": {},
   "outputs": [
    {
     "name": "stdout",
     "output_type": "stream",
     "text": [
      "15.0 15.0\n",
      "-30.0\n",
      "['-30.0\\n']\n"
     ]
    }
   ],
   "source": [
    "# Дан файл numbers.txt, компоненты которого являются действительными числами \n",
    "# (файл создайте самостоятельно и заполните любыми числам, в одной строке одно число). \n",
    "# Найдите сумму наибольшего и наименьшего из значений и запишите результат в файл output.txt.\n",
    "\n",
    "with open('numbers.txt', 'w') as numbers:\n",
    "    list_numbers = [15, -45, 9.2, 10.8, -11]\n",
    "    for num in list_numbers:\n",
    "        numbers.write(str(num)+'\\n')\n",
    "        \n",
    "numbers = open('numbers.txt', 'r')\n",
    "min_ = max_ = float(numbers.readline())\n",
    "print(min_, max_)\n",
    "for line in numbers:\n",
    "    num = float(line)\n",
    "    if num > max_:\n",
    "        max_ = num\n",
    "    elif num < min_:\n",
    "        min_ = num\n",
    "sum_ = max_ + min_\n",
    "print(sum_)\n",
    "numbers.close()\n",
    "    \n",
    "with open('output.txt', 'w') as copy_file:\n",
    "    copy_file.write(str(sum_))\n",
    "    copy_file.write('\\n')\n",
    "        \n",
    "\n",
    "copy_file = open('output.txt', 'r')\n",
    "print(copy_file.readlines())\n",
    "copy_file.close()\n",
    "\n",
    "\n",
    "# эталонное решение\n",
    "filename = 'numbers.txt'\n",
    "output = 'output.txt'\n",
    "\n",
    "with open(filename) as f:\n",
    "    min_ = max_ = float(f.readline())  # считали первое число\n",
    "    for line in f:\n",
    "        num =  float(line)\n",
    "        if num > max_:\n",
    "            max_ = num\n",
    "        elif num < min_:\n",
    "            min_ = num\n",
    "\n",
    "    sum_ = min_ + max_\n",
    "\n",
    "with open(output, 'w') as f:\n",
    "    f.write(str(sum_))\n",
    "    f.write('\\n')"
   ]
  },
  {
   "cell_type": "code",
   "execution_count": 85,
   "metadata": {},
   "outputs": [
    {
     "name": "stdout",
     "output_type": "stream",
     "text": [
      "['Иванов', 'О.', '4']\n",
      "['Петров', 'И.', '3']\n",
      "['Дмитриев', 'Н.', '2']\n",
      "['Смирнова', 'О.', '4']\n",
      "['Керченских', 'В.', '5']\n",
      "['Котов', 'Д.', '2']\n",
      "['Бирюкова', 'Н.', '1']\n",
      "['Данилов', 'П.', '3']\n",
      "['Аранских', 'В.', '5']\n",
      "['Лемонов', 'Ю.', '2']\n",
      "['Олегова', 'К.', '4']\n",
      "4\n"
     ]
    }
   ],
   "source": [
    "# В текстовый файл построчно записаны фамилии и имена учащихся класса и их оценки за контрольную. \n",
    "# Подсчитайте количество учащихся, чья оценка меньше 3 баллов. Cодержание файла:\n",
    "# Иванов О. 4\n",
    "# Петров И. 3\n",
    "# Дмитриев Н. 2\n",
    "# Смирнова О. 4\n",
    "# Керченских В. 5\n",
    "# Котов Д. 2\n",
    "# Бирюкова Н. 1\n",
    "# Данилов П. 3\n",
    "# Аранских В. 5\n",
    "# Лемонов Ю. 2\n",
    "# Олегова К. 4\n",
    "\n",
    "list_students = ['Иванов О. 4', 'Петров И. 3', 'Дмитриев Н. 2', 'Смирнова О. 4', 'Керченских В. 5', 'Котов Д. 2', 'Бирюкова Н. 1', \n",
    "                 'Данилов П. 3', 'Аранских В. 5', 'Лемонов Ю. 2', 'Олегова К. 4']\n",
    "with open('students.txt', 'w') as students:\n",
    "    for line in list_students:\n",
    "        students.write(line + '\\n')\n",
    "        \n",
    "with open('students.txt', 'r') as count_:\n",
    "    count = 0\n",
    "    for line in count_:\n",
    "        lst = line.split()\n",
    "        print(lst)\n",
    "        if int(lst[2]) < 3:\n",
    "            count += 1\n",
    "print(count)\n",
    "\n",
    "# эталонное решение\n",
    "count = 0\n",
    "for line in open(\"input.txt\"):\n",
    "    points = int(line.split()[-1])\n",
    "    if points < 3:\n",
    "        count += 1"
   ]
  },
  {
   "cell_type": "code",
   "execution_count": 98,
   "metadata": {},
   "outputs": [
    {
     "name": "stdout",
     "output_type": "stream",
     "text": [
      "['Олегова К. 4\\n', 'Лемонов Ю. 2\\n', 'Аранских В. 5\\n', 'Данилов П. 3\\n', 'Бирюкова Н. 1\\n', 'Котов Д. 2\\n', 'Керченских В. 5\\n', 'Смирнова О. 4\\n', 'Дмитриев Н. 2\\n', 'Петров И. 3\\n', 'Иванов О. 4\\n']\n"
     ]
    }
   ],
   "source": [
    "# Выполните реверсирование строк файла (перестановку строк файла в обратном порядке).\n",
    "list_students = ['Иванов О. 4', 'Петров И. 3', 'Дмитриев Н. 2', 'Смирнова О. 4', 'Керченских В. 5', 'Котов Д. 2', 'Бирюкова Н. 1', \n",
    "                 'Данилов П. 3', 'Аранских В. 5', 'Лемонов Ю. 2', 'Олегова К. 4']\n",
    "with open('students.txt', 'w') as students:\n",
    "    for line in list_students:\n",
    "        students.write(line + '\\n')\n",
    "\n",
    "with open('students.txt', 'r') as students:\n",
    "    with open('output.txt', 'w') as output:\n",
    "        for line in reversed(students.readlines()):\n",
    "            output.write(line)\n",
    "    \n",
    "    \n",
    "output = open('output.txt', 'r')\n",
    "print(output.readlines())\n",
    "\n",
    "# эталонное решение\n",
    "with open(\"input.txt\", \"r\") as input_file:\n",
    "    with open(\"output.txt\", \"w\") as output_file:\n",
    "        for line in reversed(input_file.readlines()):\n",
    "            output_file.write(line)\n",
    "    "
   ]
  }
 ],
 "metadata": {
  "kernelspec": {
   "display_name": "Python 3",
   "language": "python",
   "name": "python3"
  },
  "language_info": {
   "codemirror_mode": {
    "name": "ipython",
    "version": 3
   },
   "file_extension": ".py",
   "mimetype": "text/x-python",
   "name": "python",
   "nbconvert_exporter": "python",
   "pygments_lexer": "ipython3",
   "version": "3.9.10"
  },
  "orig_nbformat": 4
 },
 "nbformat": 4,
 "nbformat_minor": 2
}
